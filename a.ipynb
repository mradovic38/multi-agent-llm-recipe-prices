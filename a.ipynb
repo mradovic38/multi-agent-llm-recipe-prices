{
 "cells": [
  {
   "cell_type": "code",
   "execution_count": 1,
   "metadata": {},
   "outputs": [
    {
     "name": "stdout",
     "output_type": "stream",
     "text": [
      "Looking in indexes: https://download.pytorch.org/whl/cu118\n",
      "Requirement already satisfied: torch in c:\\users\\milut\\desktop\\faks4\\du\\projekat\\venv\\lib\\site-packages (2.5.1+cu118)\n",
      "Requirement already satisfied: torchvision in c:\\users\\milut\\desktop\\faks4\\du\\projekat\\venv\\lib\\site-packages (0.20.1+cu118)\n",
      "Requirement already satisfied: torchaudio in c:\\users\\milut\\desktop\\faks4\\du\\projekat\\venv\\lib\\site-packages (2.5.1+cu118)\n",
      "Requirement already satisfied: filelock in c:\\users\\milut\\desktop\\faks4\\du\\projekat\\venv\\lib\\site-packages (from torch) (3.13.1)\n",
      "Requirement already satisfied: typing-extensions>=4.8.0 in c:\\users\\milut\\desktop\\faks4\\du\\projekat\\venv\\lib\\site-packages (from torch) (4.9.0)\n",
      "Requirement already satisfied: networkx in c:\\users\\milut\\desktop\\faks4\\du\\projekat\\venv\\lib\\site-packages (from torch) (3.2.1)\n",
      "Requirement already satisfied: jinja2 in c:\\users\\milut\\desktop\\faks4\\du\\projekat\\venv\\lib\\site-packages (from torch) (3.1.3)\n",
      "Requirement already satisfied: fsspec in c:\\users\\milut\\desktop\\faks4\\du\\projekat\\venv\\lib\\site-packages (from torch) (2024.2.0)\n",
      "Requirement already satisfied: setuptools in c:\\users\\milut\\desktop\\faks4\\du\\projekat\\venv\\lib\\site-packages (from torch) (70.0.0)\n",
      "Requirement already satisfied: sympy==1.13.1 in c:\\users\\milut\\desktop\\faks4\\du\\projekat\\venv\\lib\\site-packages (from torch) (1.13.1)\n",
      "Requirement already satisfied: mpmath<1.4,>=1.1.0 in c:\\users\\milut\\desktop\\faks4\\du\\projekat\\venv\\lib\\site-packages (from sympy==1.13.1->torch) (1.3.0)\n",
      "Requirement already satisfied: numpy in c:\\users\\milut\\desktop\\faks4\\du\\projekat\\venv\\lib\\site-packages (from torchvision) (1.26.3)\n",
      "Requirement already satisfied: pillow!=8.3.*,>=5.3.0 in c:\\users\\milut\\desktop\\faks4\\du\\projekat\\venv\\lib\\site-packages (from torchvision) (10.2.0)\n",
      "Requirement already satisfied: MarkupSafe>=2.0 in c:\\users\\milut\\desktop\\faks4\\du\\projekat\\venv\\lib\\site-packages (from jinja2->torch) (2.1.5)\n",
      "Note: you may need to restart the kernel to use updated packages.\n"
     ]
    },
    {
     "name": "stderr",
     "output_type": "stream",
     "text": [
      "\n",
      "[notice] A new release of pip is available: 24.2 -> 24.3.1\n",
      "[notice] To update, run: python.exe -m pip install --upgrade pip\n"
     ]
    }
   ],
   "source": [
    "%pip install torch torchvision torchaudio --index-url https://download.pytorch.org/whl/cu118"
   ]
  },
  {
   "cell_type": "code",
   "execution_count": 2,
   "metadata": {},
   "outputs": [
    {
     "name": "stdout",
     "output_type": "stream",
     "text": [
      "Requirement already satisfied: transformers in c:\\users\\milut\\desktop\\faks4\\du\\projekat\\venv\\lib\\site-packages (4.47.1)\n",
      "Requirement already satisfied: filelock in c:\\users\\milut\\desktop\\faks4\\du\\projekat\\venv\\lib\\site-packages (from transformers) (3.13.1)\n",
      "Requirement already satisfied: huggingface-hub<1.0,>=0.24.0 in c:\\users\\milut\\desktop\\faks4\\du\\projekat\\venv\\lib\\site-packages (from transformers) (0.27.0)\n",
      "Requirement already satisfied: numpy>=1.17 in c:\\users\\milut\\desktop\\faks4\\du\\projekat\\venv\\lib\\site-packages (from transformers) (1.26.3)\n",
      "Requirement already satisfied: packaging>=20.0 in c:\\users\\milut\\desktop\\faks4\\du\\projekat\\venv\\lib\\site-packages (from transformers) (24.2)\n",
      "Requirement already satisfied: pyyaml>=5.1 in c:\\users\\milut\\desktop\\faks4\\du\\projekat\\venv\\lib\\site-packages (from transformers) (6.0.2)\n",
      "Requirement already satisfied: regex!=2019.12.17 in c:\\users\\milut\\desktop\\faks4\\du\\projekat\\venv\\lib\\site-packages (from transformers) (2024.11.6)\n",
      "Requirement already satisfied: requests in c:\\users\\milut\\desktop\\faks4\\du\\projekat\\venv\\lib\\site-packages (from transformers) (2.32.3)\n",
      "Requirement already satisfied: tokenizers<0.22,>=0.21 in c:\\users\\milut\\desktop\\faks4\\du\\projekat\\venv\\lib\\site-packages (from transformers) (0.21.0)\n",
      "Requirement already satisfied: safetensors>=0.4.1 in c:\\users\\milut\\desktop\\faks4\\du\\projekat\\venv\\lib\\site-packages (from transformers) (0.4.5)\n",
      "Requirement already satisfied: tqdm>=4.27 in c:\\users\\milut\\desktop\\faks4\\du\\projekat\\venv\\lib\\site-packages (from transformers) (4.67.1)\n",
      "Requirement already satisfied: fsspec>=2023.5.0 in c:\\users\\milut\\desktop\\faks4\\du\\projekat\\venv\\lib\\site-packages (from huggingface-hub<1.0,>=0.24.0->transformers) (2024.2.0)\n",
      "Requirement already satisfied: typing-extensions>=3.7.4.3 in c:\\users\\milut\\desktop\\faks4\\du\\projekat\\venv\\lib\\site-packages (from huggingface-hub<1.0,>=0.24.0->transformers) (4.9.0)\n",
      "Requirement already satisfied: colorama in c:\\users\\milut\\desktop\\faks4\\du\\projekat\\venv\\lib\\site-packages (from tqdm>=4.27->transformers) (0.4.6)\n",
      "Requirement already satisfied: charset-normalizer<4,>=2 in c:\\users\\milut\\desktop\\faks4\\du\\projekat\\venv\\lib\\site-packages (from requests->transformers) (3.4.1)\n",
      "Requirement already satisfied: idna<4,>=2.5 in c:\\users\\milut\\desktop\\faks4\\du\\projekat\\venv\\lib\\site-packages (from requests->transformers) (3.10)\n",
      "Requirement already satisfied: urllib3<3,>=1.21.1 in c:\\users\\milut\\desktop\\faks4\\du\\projekat\\venv\\lib\\site-packages (from requests->transformers) (2.3.0)\n",
      "Requirement already satisfied: certifi>=2017.4.17 in c:\\users\\milut\\desktop\\faks4\\du\\projekat\\venv\\lib\\site-packages (from requests->transformers) (2024.12.14)\n",
      "Note: you may need to restart the kernel to use updated packages.\n"
     ]
    },
    {
     "name": "stderr",
     "output_type": "stream",
     "text": [
      "\n",
      "[notice] A new release of pip is available: 24.2 -> 24.3.1\n",
      "[notice] To update, run: python.exe -m pip install --upgrade pip\n"
     ]
    }
   ],
   "source": [
    "%pip install transformers"
   ]
  },
  {
   "cell_type": "code",
   "execution_count": 3,
   "metadata": {},
   "outputs": [
    {
     "name": "stdout",
     "output_type": "stream",
     "text": [
      "Requirement already satisfied: accelerate in c:\\users\\milut\\desktop\\faks4\\du\\projekat\\venv\\lib\\site-packages (1.2.1)\n",
      "Requirement already satisfied: numpy<3.0.0,>=1.17 in c:\\users\\milut\\desktop\\faks4\\du\\projekat\\venv\\lib\\site-packages (from accelerate) (1.26.3)\n",
      "Requirement already satisfied: packaging>=20.0 in c:\\users\\milut\\desktop\\faks4\\du\\projekat\\venv\\lib\\site-packages (from accelerate) (24.2)\n",
      "Requirement already satisfied: psutil in c:\\users\\milut\\desktop\\faks4\\du\\projekat\\venv\\lib\\site-packages (from accelerate) (6.1.1)\n",
      "Requirement already satisfied: pyyaml in c:\\users\\milut\\desktop\\faks4\\du\\projekat\\venv\\lib\\site-packages (from accelerate) (6.0.2)\n",
      "Requirement already satisfied: torch>=1.10.0 in c:\\users\\milut\\desktop\\faks4\\du\\projekat\\venv\\lib\\site-packages (from accelerate) (2.5.1+cu118)\n",
      "Requirement already satisfied: huggingface-hub>=0.21.0 in c:\\users\\milut\\desktop\\faks4\\du\\projekat\\venv\\lib\\site-packages (from accelerate) (0.27.0)\n",
      "Requirement already satisfied: safetensors>=0.4.3 in c:\\users\\milut\\desktop\\faks4\\du\\projekat\\venv\\lib\\site-packages (from accelerate) (0.4.5)\n",
      "Requirement already satisfied: filelock in c:\\users\\milut\\desktop\\faks4\\du\\projekat\\venv\\lib\\site-packages (from huggingface-hub>=0.21.0->accelerate) (3.13.1)\n",
      "Requirement already satisfied: fsspec>=2023.5.0 in c:\\users\\milut\\desktop\\faks4\\du\\projekat\\venv\\lib\\site-packages (from huggingface-hub>=0.21.0->accelerate) (2024.2.0)\n",
      "Requirement already satisfied: requests in c:\\users\\milut\\desktop\\faks4\\du\\projekat\\venv\\lib\\site-packages (from huggingface-hub>=0.21.0->accelerate) (2.32.3)\n",
      "Requirement already satisfied: tqdm>=4.42.1 in c:\\users\\milut\\desktop\\faks4\\du\\projekat\\venv\\lib\\site-packages (from huggingface-hub>=0.21.0->accelerate) (4.67.1)\n",
      "Requirement already satisfied: typing-extensions>=3.7.4.3 in c:\\users\\milut\\desktop\\faks4\\du\\projekat\\venv\\lib\\site-packages (from huggingface-hub>=0.21.0->accelerate) (4.9.0)\n",
      "Requirement already satisfied: networkx in c:\\users\\milut\\desktop\\faks4\\du\\projekat\\venv\\lib\\site-packages (from torch>=1.10.0->accelerate) (3.2.1)\n",
      "Requirement already satisfied: jinja2 in c:\\users\\milut\\desktop\\faks4\\du\\projekat\\venv\\lib\\site-packages (from torch>=1.10.0->accelerate) (3.1.3)\n",
      "Requirement already satisfied: setuptools in c:\\users\\milut\\desktop\\faks4\\du\\projekat\\venv\\lib\\site-packages (from torch>=1.10.0->accelerate) (70.0.0)\n",
      "Requirement already satisfied: sympy==1.13.1 in c:\\users\\milut\\desktop\\faks4\\du\\projekat\\venv\\lib\\site-packages (from torch>=1.10.0->accelerate) (1.13.1)\n",
      "Requirement already satisfied: mpmath<1.4,>=1.1.0 in c:\\users\\milut\\desktop\\faks4\\du\\projekat\\venv\\lib\\site-packages (from sympy==1.13.1->torch>=1.10.0->accelerate) (1.3.0)\n",
      "Requirement already satisfied: colorama in c:\\users\\milut\\desktop\\faks4\\du\\projekat\\venv\\lib\\site-packages (from tqdm>=4.42.1->huggingface-hub>=0.21.0->accelerate) (0.4.6)\n",
      "Requirement already satisfied: MarkupSafe>=2.0 in c:\\users\\milut\\desktop\\faks4\\du\\projekat\\venv\\lib\\site-packages (from jinja2->torch>=1.10.0->accelerate) (2.1.5)\n",
      "Requirement already satisfied: charset-normalizer<4,>=2 in c:\\users\\milut\\desktop\\faks4\\du\\projekat\\venv\\lib\\site-packages (from requests->huggingface-hub>=0.21.0->accelerate) (3.4.1)\n",
      "Requirement already satisfied: idna<4,>=2.5 in c:\\users\\milut\\desktop\\faks4\\du\\projekat\\venv\\lib\\site-packages (from requests->huggingface-hub>=0.21.0->accelerate) (3.10)\n",
      "Requirement already satisfied: urllib3<3,>=1.21.1 in c:\\users\\milut\\desktop\\faks4\\du\\projekat\\venv\\lib\\site-packages (from requests->huggingface-hub>=0.21.0->accelerate) (2.3.0)\n",
      "Requirement already satisfied: certifi>=2017.4.17 in c:\\users\\milut\\desktop\\faks4\\du\\projekat\\venv\\lib\\site-packages (from requests->huggingface-hub>=0.21.0->accelerate) (2024.12.14)\n",
      "Note: you may need to restart the kernel to use updated packages.\n"
     ]
    },
    {
     "name": "stderr",
     "output_type": "stream",
     "text": [
      "\n",
      "[notice] A new release of pip is available: 24.2 -> 24.3.1\n",
      "[notice] To update, run: python.exe -m pip install --upgrade pip\n"
     ]
    }
   ],
   "source": [
    "%pip install accelerate"
   ]
  },
  {
   "cell_type": "code",
   "execution_count": 4,
   "metadata": {},
   "outputs": [
    {
     "name": "stdout",
     "output_type": "stream",
     "text": [
      "Requirement already satisfied: bitsandbytes in c:\\users\\milut\\desktop\\faks4\\du\\projekat\\venv\\lib\\site-packages (0.45.0)\n",
      "Requirement already satisfied: torch in c:\\users\\milut\\desktop\\faks4\\du\\projekat\\venv\\lib\\site-packages (from bitsandbytes) (2.5.1+cu118)\n",
      "Requirement already satisfied: numpy in c:\\users\\milut\\desktop\\faks4\\du\\projekat\\venv\\lib\\site-packages (from bitsandbytes) (1.26.3)\n",
      "Requirement already satisfied: typing_extensions>=4.8.0 in c:\\users\\milut\\desktop\\faks4\\du\\projekat\\venv\\lib\\site-packages (from bitsandbytes) (4.9.0)\n",
      "Requirement already satisfied: filelock in c:\\users\\milut\\desktop\\faks4\\du\\projekat\\venv\\lib\\site-packages (from torch->bitsandbytes) (3.13.1)\n",
      "Requirement already satisfied: networkx in c:\\users\\milut\\desktop\\faks4\\du\\projekat\\venv\\lib\\site-packages (from torch->bitsandbytes) (3.2.1)\n",
      "Requirement already satisfied: jinja2 in c:\\users\\milut\\desktop\\faks4\\du\\projekat\\venv\\lib\\site-packages (from torch->bitsandbytes) (3.1.3)\n",
      "Requirement already satisfied: fsspec in c:\\users\\milut\\desktop\\faks4\\du\\projekat\\venv\\lib\\site-packages (from torch->bitsandbytes) (2024.2.0)\n",
      "Requirement already satisfied: setuptools in c:\\users\\milut\\desktop\\faks4\\du\\projekat\\venv\\lib\\site-packages (from torch->bitsandbytes) (70.0.0)\n",
      "Requirement already satisfied: sympy==1.13.1 in c:\\users\\milut\\desktop\\faks4\\du\\projekat\\venv\\lib\\site-packages (from torch->bitsandbytes) (1.13.1)\n",
      "Requirement already satisfied: mpmath<1.4,>=1.1.0 in c:\\users\\milut\\desktop\\faks4\\du\\projekat\\venv\\lib\\site-packages (from sympy==1.13.1->torch->bitsandbytes) (1.3.0)\n",
      "Requirement already satisfied: MarkupSafe>=2.0 in c:\\users\\milut\\desktop\\faks4\\du\\projekat\\venv\\lib\\site-packages (from jinja2->torch->bitsandbytes) (2.1.5)\n",
      "Note: you may need to restart the kernel to use updated packages.\n"
     ]
    },
    {
     "name": "stderr",
     "output_type": "stream",
     "text": [
      "\n",
      "[notice] A new release of pip is available: 24.2 -> 24.3.1\n",
      "[notice] To update, run: python.exe -m pip install --upgrade pip\n"
     ]
    }
   ],
   "source": [
    "%pip install bitsandbytes"
   ]
  },
  {
   "cell_type": "code",
   "execution_count": 5,
   "metadata": {},
   "outputs": [
    {
     "name": "stdout",
     "output_type": "stream",
     "text": [
      "True\n"
     ]
    }
   ],
   "source": [
    "import torch\n",
    "print(torch.cuda.is_available())"
   ]
  },
  {
   "cell_type": "code",
   "execution_count": 6,
   "metadata": {},
   "outputs": [
    {
     "name": "stdout",
     "output_type": "stream",
     "text": [
      "Requirement already satisfied: huggingface_hub in c:\\users\\milut\\desktop\\faks4\\du\\projekat\\venv\\lib\\site-packages (0.27.0)Note: you may need to restart the kernel to use updated packages.\n"
     ]
    },
    {
     "name": "stderr",
     "output_type": "stream",
     "text": [
      "\n",
      "[notice] A new release of pip is available: 24.2 -> 24.3.1\n",
      "[notice] To update, run: python.exe -m pip install --upgrade pip\n"
     ]
    },
    {
     "name": "stdout",
     "output_type": "stream",
     "text": [
      "\n",
      "Requirement already satisfied: filelock in c:\\users\\milut\\desktop\\faks4\\du\\projekat\\venv\\lib\\site-packages (from huggingface_hub) (3.13.1)\n",
      "Requirement already satisfied: fsspec>=2023.5.0 in c:\\users\\milut\\desktop\\faks4\\du\\projekat\\venv\\lib\\site-packages (from huggingface_hub) (2024.2.0)\n",
      "Requirement already satisfied: packaging>=20.9 in c:\\users\\milut\\desktop\\faks4\\du\\projekat\\venv\\lib\\site-packages (from huggingface_hub) (24.2)\n",
      "Requirement already satisfied: pyyaml>=5.1 in c:\\users\\milut\\desktop\\faks4\\du\\projekat\\venv\\lib\\site-packages (from huggingface_hub) (6.0.2)\n",
      "Requirement already satisfied: requests in c:\\users\\milut\\desktop\\faks4\\du\\projekat\\venv\\lib\\site-packages (from huggingface_hub) (2.32.3)\n",
      "Requirement already satisfied: tqdm>=4.42.1 in c:\\users\\milut\\desktop\\faks4\\du\\projekat\\venv\\lib\\site-packages (from huggingface_hub) (4.67.1)\n",
      "Requirement already satisfied: typing-extensions>=3.7.4.3 in c:\\users\\milut\\desktop\\faks4\\du\\projekat\\venv\\lib\\site-packages (from huggingface_hub) (4.9.0)\n",
      "Requirement already satisfied: colorama in c:\\users\\milut\\desktop\\faks4\\du\\projekat\\venv\\lib\\site-packages (from tqdm>=4.42.1->huggingface_hub) (0.4.6)\n",
      "Requirement already satisfied: charset-normalizer<4,>=2 in c:\\users\\milut\\desktop\\faks4\\du\\projekat\\venv\\lib\\site-packages (from requests->huggingface_hub) (3.4.1)\n",
      "Requirement already satisfied: idna<4,>=2.5 in c:\\users\\milut\\desktop\\faks4\\du\\projekat\\venv\\lib\\site-packages (from requests->huggingface_hub) (3.10)\n",
      "Requirement already satisfied: urllib3<3,>=1.21.1 in c:\\users\\milut\\desktop\\faks4\\du\\projekat\\venv\\lib\\site-packages (from requests->huggingface_hub) (2.3.0)\n",
      "Requirement already satisfied: certifi>=2017.4.17 in c:\\users\\milut\\desktop\\faks4\\du\\projekat\\venv\\lib\\site-packages (from requests->huggingface_hub) (2024.12.14)\n"
     ]
    }
   ],
   "source": [
    "%pip install huggingface_hub"
   ]
  },
  {
   "cell_type": "code",
   "execution_count": 7,
   "metadata": {},
   "outputs": [
    {
     "name": "stdout",
     "output_type": "stream",
     "text": [
      "Requirement already satisfied: bitsandbytes in c:\\users\\milut\\desktop\\faks4\\du\\projekat\\venv\\lib\\site-packages (0.45.0)\n",
      "Requirement already satisfied: torch in c:\\users\\milut\\desktop\\faks4\\du\\projekat\\venv\\lib\\site-packages (from bitsandbytes) (2.5.1+cu118)\n",
      "Requirement already satisfied: numpy in c:\\users\\milut\\desktop\\faks4\\du\\projekat\\venv\\lib\\site-packages (from bitsandbytes) (1.26.3)\n",
      "Requirement already satisfied: typing_extensions>=4.8.0 in c:\\users\\milut\\desktop\\faks4\\du\\projekat\\venv\\lib\\site-packages (from bitsandbytes) (4.9.0)\n",
      "Requirement already satisfied: filelock in c:\\users\\milut\\desktop\\faks4\\du\\projekat\\venv\\lib\\site-packages (from torch->bitsandbytes) (3.13.1)\n",
      "Requirement already satisfied: networkx in c:\\users\\milut\\desktop\\faks4\\du\\projekat\\venv\\lib\\site-packages (from torch->bitsandbytes) (3.2.1)\n",
      "Requirement already satisfied: jinja2 in c:\\users\\milut\\desktop\\faks4\\du\\projekat\\venv\\lib\\site-packages (from torch->bitsandbytes) (3.1.3)\n",
      "Requirement already satisfied: fsspec in c:\\users\\milut\\desktop\\faks4\\du\\projekat\\venv\\lib\\site-packages (from torch->bitsandbytes) (2024.2.0)\n",
      "Requirement already satisfied: setuptools in c:\\users\\milut\\desktop\\faks4\\du\\projekat\\venv\\lib\\site-packages (from torch->bitsandbytes) (70.0.0)\n",
      "Requirement already satisfied: sympy==1.13.1 in c:\\users\\milut\\desktop\\faks4\\du\\projekat\\venv\\lib\\site-packages (from torch->bitsandbytes) (1.13.1)\n",
      "Requirement already satisfied: mpmath<1.4,>=1.1.0 in c:\\users\\milut\\desktop\\faks4\\du\\projekat\\venv\\lib\\site-packages (from sympy==1.13.1->torch->bitsandbytes) (1.3.0)\n",
      "Requirement already satisfied: MarkupSafe>=2.0 in c:\\users\\milut\\desktop\\faks4\\du\\projekat\\venv\\lib\\site-packages (from jinja2->torch->bitsandbytes) (2.1.5)\n",
      "Note: you may need to restart the kernel to use updated packages.\n"
     ]
    },
    {
     "name": "stderr",
     "output_type": "stream",
     "text": [
      "\n",
      "[notice] A new release of pip is available: 24.2 -> 24.3.1\n",
      "[notice] To update, run: python.exe -m pip install --upgrade pip\n"
     ]
    }
   ],
   "source": [
    "%pip install --upgrade bitsandbytes"
   ]
  },
  {
   "cell_type": "code",
   "execution_count": 8,
   "metadata": {},
   "outputs": [
    {
     "name": "stdout",
     "output_type": "stream",
     "text": [
      "Note: you may need to restart the kernel to use updated packages.\n",
      "Requirement already satisfied: transformers in c:\\users\\milut\\desktop\\faks4\\du\\projekat\\venv\\lib\\site-packages (4.47.1)\n",
      "Requirement already satisfied: torch in c:\\users\\milut\\desktop\\faks4\\du\\projekat\\venv\\lib\\site-packages (2.5.1+cu118)\n",
      "Requirement already satisfied: filelock in c:\\users\\milut\\desktop\\faks4\\du\\projekat\\venv\\lib\\site-packages (from transformers) (3.13.1)\n",
      "Requirement already satisfied: huggingface-hub<1.0,>=0.24.0 in c:\\users\\milut\\desktop\\faks4\\du\\projekat\\venv\\lib\\site-packages (from transformers) (0.27.0)\n",
      "Requirement already satisfied: numpy>=1.17 in c:\\users\\milut\\desktop\\faks4\\du\\projekat\\venv\\lib\\site-packages (from transformers) (1.26.3)\n",
      "Requirement already satisfied: packaging>=20.0 in c:\\users\\milut\\desktop\\faks4\\du\\projekat\\venv\\lib\\site-packages (from transformers) (24.2)\n",
      "Requirement already satisfied: pyyaml>=5.1 in c:\\users\\milut\\desktop\\faks4\\du\\projekat\\venv\\lib\\site-packages (from transformers) (6.0.2)\n",
      "Requirement already satisfied: regex!=2019.12.17 in c:\\users\\milut\\desktop\\faks4\\du\\projekat\\venv\\lib\\site-packages (from transformers) (2024.11.6)\n",
      "Requirement already satisfied: requests in c:\\users\\milut\\desktop\\faks4\\du\\projekat\\venv\\lib\\site-packages (from transformers) (2.32.3)\n",
      "Requirement already satisfied: tokenizers<0.22,>=0.21 in c:\\users\\milut\\desktop\\faks4\\du\\projekat\\venv\\lib\\site-packages (from transformers) (0.21.0)\n",
      "Requirement already satisfied: safetensors>=0.4.1 in c:\\users\\milut\\desktop\\faks4\\du\\projekat\\venv\\lib\\site-packages (from transformers) (0.4.5)\n",
      "Requirement already satisfied: tqdm>=4.27 in c:\\users\\milut\\desktop\\faks4\\du\\projekat\\venv\\lib\\site-packages (from transformers) (4.67.1)\n",
      "Requirement already satisfied: typing-extensions>=4.8.0 in c:\\users\\milut\\desktop\\faks4\\du\\projekat\\venv\\lib\\site-packages (from torch) (4.9.0)\n",
      "Requirement already satisfied: networkx in c:\\users\\milut\\desktop\\faks4\\du\\projekat\\venv\\lib\\site-packages (from torch) (3.2.1)\n",
      "Requirement already satisfied: jinja2 in c:\\users\\milut\\desktop\\faks4\\du\\projekat\\venv\\lib\\site-packages (from torch) (3.1.3)\n",
      "Requirement already satisfied: fsspec in c:\\users\\milut\\desktop\\faks4\\du\\projekat\\venv\\lib\\site-packages (from torch) (2024.2.0)\n",
      "Requirement already satisfied: setuptools in c:\\users\\milut\\desktop\\faks4\\du\\projekat\\venv\\lib\\site-packages (from torch) (70.0.0)\n",
      "Requirement already satisfied: sympy==1.13.1 in c:\\users\\milut\\desktop\\faks4\\du\\projekat\\venv\\lib\\site-packages (from torch) (1.13.1)\n",
      "Requirement already satisfied: mpmath<1.4,>=1.1.0 in c:\\users\\milut\\desktop\\faks4\\du\\projekat\\venv\\lib\\site-packages (from sympy==1.13.1->torch) (1.3.0)\n",
      "Requirement already satisfied: colorama in c:\\users\\milut\\desktop\\faks4\\du\\projekat\\venv\\lib\\site-packages (from tqdm>=4.27->transformers) (0.4.6)\n",
      "Requirement already satisfied: MarkupSafe>=2.0 in c:\\users\\milut\\desktop\\faks4\\du\\projekat\\venv\\lib\\site-packages (from jinja2->torch) (2.1.5)\n",
      "Requirement already satisfied: charset-normalizer<4,>=2 in c:\\users\\milut\\desktop\\faks4\\du\\projekat\\venv\\lib\\site-packages (from requests->transformers) (3.4.1)\n",
      "Requirement already satisfied: idna<4,>=2.5 in c:\\users\\milut\\desktop\\faks4\\du\\projekat\\venv\\lib\\site-packages (from requests->transformers) (3.10)\n",
      "Requirement already satisfied: urllib3<3,>=1.21.1 in c:\\users\\milut\\desktop\\faks4\\du\\projekat\\venv\\lib\\site-packages (from requests->transformers) (2.3.0)\n",
      "Requirement already satisfied: certifi>=2017.4.17 in c:\\users\\milut\\desktop\\faks4\\du\\projekat\\venv\\lib\\site-packages (from requests->transformers) (2024.12.14)\n"
     ]
    },
    {
     "name": "stderr",
     "output_type": "stream",
     "text": [
      "\n",
      "[notice] A new release of pip is available: 24.2 -> 24.3.1\n",
      "[notice] To update, run: python.exe -m pip install --upgrade pip\n"
     ]
    }
   ],
   "source": [
    "%pip install --upgrade transformers torch"
   ]
  },
  {
   "cell_type": "code",
   "execution_count": 9,
   "metadata": {
    "vscode": {
     "languageId": "bat"
    }
   },
   "outputs": [
    {
     "name": "stdout",
     "output_type": "stream",
     "text": [
      "nvcc: NVIDIA (R) Cuda compiler driver\n",
      "Copyright (c) 2005-2024 NVIDIA Corporation\n",
      "Built on Wed_Oct_30_01:18:48_Pacific_Daylight_Time_2024\n",
      "Cuda compilation tools, release 12.6, V12.6.85\n",
      "Build cuda_12.6.r12.6/compiler.35059454_0\n"
     ]
    }
   ],
   "source": [
    "!nvcc --version"
   ]
  },
  {
   "cell_type": "code",
   "execution_count": 16,
   "metadata": {},
   "outputs": [
    {
     "name": "stderr",
     "output_type": "stream",
     "text": [
      "Loading checkpoint shards: 100%|██████████| 2/2 [00:02<00:00,  1.03s/it]\n"
     ]
    },
    {
     "name": "stdout",
     "output_type": "stream",
     "text": [
      "Allocated: 7296.53 MB\n",
      "Reserved:  7312.00 MB\n",
      "Total:     8187.50 MB\n",
      "cuda:0\n"
     ]
    }
   ],
   "source": [
    "import torch\n",
    "from transformers import AutoTokenizer, AutoModelForCausalLM\n",
    "\n",
    "model_name = \"microsoft/Phi-3.5-mini-instruct\"\n",
    "\n",
    "tokenizer = AutoTokenizer.from_pretrained(model_name)\n",
    "device = \"cuda\" if torch.cuda.is_available() else \"cpu\"\n",
    "# device = \"cpu\"\n",
    "\n",
    "model = AutoModelForCausalLM.from_pretrained(\n",
    "    model_name,\n",
    "    torch_dtype = torch.float16\n",
    ").to(device)\n",
    "\n",
    "device = torch.device(\"cuda:0\")\n",
    "\n",
    "# Get allocated, reserved, and total memory on this GPU\n",
    "allocated_memory = torch.cuda.memory_allocated(device)\n",
    "reserved_memory = torch.cuda.memory_reserved(device)\n",
    "max_memory = torch.cuda.get_device_properties(device).total_memory\n",
    "\n",
    "print(f\"Allocated: {allocated_memory / (1024**2):.2f} MB\")\n",
    "print(f\"Reserved:  {reserved_memory / (1024**2):.2f} MB\")\n",
    "print(f\"Total:     {max_memory / (1024**2):.2f} MB\")\n",
    "\n",
    "print(model.device)"
   ]
  },
  {
   "cell_type": "code",
   "execution_count": 59,
   "metadata": {},
   "outputs": [
    {
     "name": "stdout",
     "output_type": "stream",
     "text": [
      "How to cook a birthday cake?\n",
      "\n",
      "To cook a birthday cake, you will need to follow these steps:\n",
      "\n",
      "1. Gather ingredients: You will need flour, sugar, eggs, butter, baking powder, milk, and flavorings such as vanilla extract or cocoa powder.\n",
      "\n",
      "2. Preheat the oven: Preheat your oven to the appropriate temperature for the recipe you are using.\n",
      "\n",
      "3. Prepare the cake batter: In a mixing bowl, combine the dry ingredients (flour, sugar, and baking powder) and mix well. In a separate bowl, beat together the wet ingredients (eggs, butter, and milk). Gradually add the wet ingredients to the dry ingredients and mix until the batter is smooth.\n",
      "\n",
      "4. Add flavorings: If you want to add flavorings such as vanilla extract or cocoa powder, add them to the batter now and mix well.\n",
      "\n",
      "5. Prepare the cake pan: Grease and flour a cake pan or line it with parchment paper.\n",
      "\n",
      "6. Pour the batter into the pan: Pour the cake batter into the prepared cake pan, smoothing the top with a spatula.\n",
      "\n",
      "7. Bake the cake: Place the cake pan in the preheated oven and bake for the recommended time in the recipe. The cake is done when a toothpick inserted into the center comes out clean.\n",
      "\n",
      "8. Cool the cake: Remove the cake from the oven and let it cool in the pan for about 10 minutes. Then, transfer it to a wire rack to cool completely.\n",
      "\n",
      "9. Decorate the cake: Once the cake has cooled, you can decorate it with frosting, sprinkles, candles, or other decorations.\n",
      "\n",
      "Remember to follow the specific instructions in the recipe you are using for the best results. Enjoy your delicious birthday cake!\n",
      "\n",
      "\n",
      "\n",
      "To solve the puzzle, we need to determine the correct sequence of actions that will result in a successfully baked birthday cake. Let's break down the steps and identify any potential errors or missing steps in the provided sequence:\n",
      "\n",
      "1. Gather ingredients: This step is correct, as we need the necessary ingredients for the cake.\n",
      "\n",
      "2. Preheat the oven: This is also correct, as we need to preheat the oven to the appropriate temperature for baking the cake.\n",
      "\n",
      "3. Prepare the cake batter: This step seems correct, but it's worth noting that the order of combining ingredients might differ depending on the recipe. However, mixing the dry and wet ingredients separately before combining them is a common practice.\n",
      "\n",
      "4. Add flavorings: This step is correct, but it's unclear which flavorings are being used. It's important to follow the specific recipe instructions for the desired flavor.\n",
      "\n",
      "5. Prepare the cake pan: This step is correct, but it's missing information about greasing and flouring the pan. To ensure the cake doesn't stick, you should grease the pan with butter or cooking spray and then dust it with flour.\n",
      "\n",
      "6. Pour the batter into the pan: This step is correct, but it's missing the instruction to smooth the top of the batter with a spatula. This helps ensure an even bake.\n",
      "\n",
      "7. Bake the cake: This step is correct, but it's missing the recommended baking time and temperature for the specific recipe. Always follow the recipe instructions to achieve the best results.\n",
      "\n",
      "8. Cool the cake: This step is correct, but it's missing the instruction to let the cake cool in the pan for about 10 minutes before transferring it to a wire rack. This allows the cake to firm up and makes it easier to remove from the pan.\n",
      "\n",
      "9. Decorate the cake: This step is correct, but it's worth noting that decorating the cake is optional and can be done after it has cooled completely.\n",
      "\n",
      "In conclusion, the provided sequence has a few missing steps and lacks specific details. Here is the corrected sequence with additional information:\n",
      "\n",
      "1. Gather ingredients: Collect flour, sugar, eggs, butter, baking powder, milk, and desired flavorings (e.g., vanilla extract or cocoa powder).\n",
      "2. Preheat the oven to the appropriate temperature as stated in the recipe.\n",
      "3. Prepare the cake batter by mixing the dry ingredients (flour, sugar, and baking powder) in one bowl and the wet ingredients (eggs, butter, and milk) in another. Gradually combine the wet and dry ingredients, mixing until smooth.\n",
      "4. Add desired flavorings (e.g., vanilla extract or cocoa powder) to the batter and mix well.\n",
      "5. Grease the cake pan with butter or cooking spray, then dust it with flour to prevent sticking.\n",
      "6. Pour the cake batter into the prepared pan, using a spatula to smooth the top.\n",
      "7. Bake the cake in the preheated oven for the recommended time and temperature specified in the recipe.\n",
      "8. Allow the cake to cool in the pan for about 10 minutes, then transfer it to a wire rack to cool completely.\n",
      "9. Once the cake has cooled, you can decorate it with frosting, sprinkles, candles, or other decorations, if desired.\n",
      "\n",
      "By following these revised steps, you should be able to successfully bake a delicious birthday cake. Remember to always follow the specific instructions in your chosen recipe for the best results.\n"
     ]
    }
   ],
   "source": [
    "prompt = \"How to cook a birthday cake?\"\n",
    "inputs = tokenizer(prompt, return_tensors=\"pt\", truncation=True).to(model.device)  # unload explicit ?\n",
    "# outputs = model.generate(**inputs, max_new_tokens=500)\n",
    "outputs = model.generate(\n",
    "    **inputs,\n",
    "    max_new_tokens=2000,      # Generate up to 500 new tokens\n",
    "    min_length=200,           # Ensure at least 200 tokens are generated\n",
    "    temperature=0.6,\n",
    "    top_p=0.9,                # Consider the top 90% of probabilities\n",
    "    num_beams=1,              # Use greedy decoding for speed\n",
    "    do_sample=True,           # Enable sampling\n",
    "    use_cache=True,           # Use cached key/values for faster generation\n",
    "    early_stopping=False      # num_beams 1 forced\n",
    ")\n",
    "\n",
    "print(tokenizer.decode(outputs[0], skip_special_tokens=True))\n",
    "\n",
    "# 40s vs 2m40s"
   ]
  },
  {
   "cell_type": "code",
   "execution_count": 21,
   "metadata": {},
   "outputs": [
    {
     "name": "stdout",
     "output_type": "stream",
     "text": [
      "131072\n"
     ]
    }
   ],
   "source": [
    "max_length = model.config.n_positions if hasattr(model.config, \"n_positions\") else model.config.max_position_embeddings\n",
    "print(max_length)"
   ]
  },
  {
   "cell_type": "code",
   "execution_count": 53,
   "metadata": {},
   "outputs": [
    {
     "data": {
      "text/plain": [
       "('./phi-3.5-onnx\\\\tokenizer_config.json',\n",
       " './phi-3.5-onnx\\\\special_tokens_map.json',\n",
       " './phi-3.5-onnx\\\\tokenizer.json')"
      ]
     },
     "execution_count": 53,
     "metadata": {},
     "output_type": "execute_result"
    }
   ],
   "source": [
    "base_model_dir = \"./phi-3.5-instruction\"\n",
    "model.save_pretrained(base_model_dir)\n",
    "tokenizer.save_pretrained(base_model_dir)"
   ]
  },
  {
   "cell_type": "code",
   "execution_count": 85,
   "metadata": {},
   "outputs": [
    {
     "name": "stderr",
     "output_type": "stream",
     "text": [
      "Loading checkpoint shards: 100%|██████████| 2/2 [00:00<00:00,  6.64it/s]\n"
     ]
    },
    {
     "name": "stdout",
     "output_type": "stream",
     "text": [
      "Allocated: 7296.53 MB\n",
      "Reserved:  8324.00 MB\n",
      "Total:     8187.50 MB\n"
     ]
    }
   ],
   "source": [
    "model = AutoModelForCausalLM.from_pretrained(\n",
    "    base_model_dir,\n",
    "    torch_dtype = torch.float16\n",
    ").to(device)\n",
    "\n",
    "tokenizer = AutoTokenizer.from_pretrained(base_model_dir)\n",
    "\n",
    "device = torch.device(\"cuda:0\")\n",
    "\n",
    "# Get allocated, reserved, and total memory on this GPU\n",
    "allocated_memory = torch.cuda.memory_allocated(device)\n",
    "reserved_memory = torch.cuda.memory_reserved(device)\n",
    "max_memory = torch.cuda.get_device_properties(device).total_memory\n",
    "\n",
    "print(f\"Allocated: {allocated_memory / (1024**2):.2f} MB\")\n",
    "print(f\"Reserved:  {reserved_memory / (1024**2):.2f} MB\")\n",
    "print(f\"Total:     {max_memory / (1024**2):.2f} MB\")"
   ]
  },
  {
   "cell_type": "code",
   "execution_count": 87,
   "metadata": {},
   "outputs": [
    {
     "name": "stdout",
     "output_type": "stream",
     "text": [
      "Cake recipe and instructions\n",
      "\n",
      "Ingredients:\n",
      "\n",
      "- 2 cups all-purpose flour\n",
      "- 1 1/2 cups granulated sugar\n",
      "- 3/4 cup unsweetened cocoa powder\n",
      "- 1 1/2 teaspoons baking powder\n",
      "- 1 1/2 teaspoons baking soda\n",
      "- 1 teaspoon salt\n",
      "- 2 large eggs\n",
      "- 1 cup whole milk\n",
      "- 1/2 cup vegetable oil\n",
      "- 2 teaspoons pure vanilla extract\n",
      "- 1 cup boiling water\n",
      "\n",
      "Instructions:\n",
      "\n",
      "1. Preheat your oven to 350°F (175°C). Grease and flour two 9-inch round cake pans.\n",
      "\n",
      "2. In a large mixing bowl, whisk together the flour, sugar, cocoa powder, baking powder, baking soda, and salt.\n",
      "\n",
      "3. Add the eggs, milk, vegetable oil, and vanilla extract to the dry ingredients. Beat on medium speed for about 2 minutes until the batter is smooth and well combined.\n",
      "\n",
      "4. Gradually add the boiling water to the batter, mixing continuously. The batter will be thin, but that's okay.\n",
      "\n",
      "5. Pour the batter evenly into the prepared cake pans.\n",
      "\n",
      "6. Bake for 30-35 minutes, or until a toothpick inserted into the center of the cakes comes out clean.\n",
      "\n",
      "7. Remove the cakes from the oven and allow them to cool in the pans for 10 minutes. Then, transfer the cakes to a wire rack to cool completely.\n",
      "\n",
      "8. Once the cakes are completely cooled, you can frost and decorate them as desired.\n",
      "\n",
      "Enjoy your delicious homemade chocolate cake!\n",
      "\n",
      "Note: This recipe makes two 9-inch round cakes. If you'd like to make one larger cake, you can double the ingredients and use a 9x13-inch baking pan. Adjust the baking time accordingly.\n"
     ]
    }
   ],
   "source": [
    "prompt = \"Cake recipe and instructions\"\n",
    "inputs = tokenizer(prompt, return_tensors=\"pt\", truncation=True).to(model.device)  # unload explicit ?\n",
    "# outputs = model.generate(**inputs, max_new_tokens=500)\n",
    "outputs = model.generate(\n",
    "    **inputs,\n",
    "    max_new_tokens=500,\n",
    "    min_length=0,\n",
    "    temperature=0.6,\n",
    "    top_p=0.8,\n",
    "    num_beams=3,\n",
    "    length_penalty=0.8,  # kaznjava duzinu teksta srednje strogo\n",
    "    do_sample=True,\n",
    "    use_cache=True,\n",
    "    early_stopping=True   \n",
    ")\n",
    "\n",
    "print(tokenizer.decode(outputs[0], skip_special_tokens=True))\n",
    "del inputs\n",
    "torch.cuda.empty_cache()\n"
   ]
  },
  {
   "cell_type": "code",
   "execution_count": 91,
   "metadata": {},
   "outputs": [
    {
     "name": "stdout",
     "output_type": "stream",
     "text": [
      "Allocated: 8.13 MB\n",
      "Reserved:  22.00 MB\n",
      "Total:     8187.50 MB\n"
     ]
    }
   ],
   "source": [
    "allocated_memory = torch.cuda.memory_allocated(device)\n",
    "reserved_memory = torch.cuda.memory_reserved(device)\n",
    "max_memory = torch.cuda.get_device_properties(device).total_memory\n",
    "\n",
    "print(f\"Allocated: {allocated_memory / (1024**2):.2f} MB\")\n",
    "print(f\"Reserved:  {reserved_memory / (1024**2):.2f} MB\")\n",
    "print(f\"Total:     {max_memory / (1024**2):.2f} MB\")"
   ]
  },
  {
   "cell_type": "code",
   "execution_count": 89,
   "metadata": {},
   "outputs": [
    {
     "name": "stdout",
     "output_type": "stream",
     "text": [
      "Note: you may need to restart the kernel to use updated packages.\n"
     ]
    }
   ],
   "source": [
    "%pip freeze > requirements.txt"
   ]
  },
  {
   "cell_type": "code",
   "execution_count": 90,
   "metadata": {},
   "outputs": [],
   "source": [
    "del model\n",
    "del tokenizer\n",
    "torch.cuda.empty_cache()\n",
    "torch.cuda.synchronize()"
   ]
  }
 ],
 "metadata": {
  "kernelspec": {
   "display_name": "venv",
   "language": "python",
   "name": "python3"
  },
  "language_info": {
   "codemirror_mode": {
    "name": "ipython",
    "version": 3
   },
   "file_extension": ".py",
   "mimetype": "text/x-python",
   "name": "python",
   "nbconvert_exporter": "python",
   "pygments_lexer": "ipython3",
   "version": "3.12.7"
  }
 },
 "nbformat": 4,
 "nbformat_minor": 2
}
