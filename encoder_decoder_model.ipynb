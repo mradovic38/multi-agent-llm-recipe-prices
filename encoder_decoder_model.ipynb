{
 "cells": [
  {
   "cell_type": "code",
   "execution_count": 15,
   "metadata": {},
   "outputs": [
    {
     "name": "stdout",
     "output_type": "stream",
     "text": [
      "Requirement already satisfied: ipywidgets in c:\\users\\milut\\desktop\\faks4\\du\\projekat\\venv\\lib\\site-packages (8.1.5)\n",
      "Requirement already satisfied: comm>=0.1.3 in c:\\users\\milut\\desktop\\faks4\\du\\projekat\\venv\\lib\\site-packages (from ipywidgets) (0.2.2)\n",
      "Requirement already satisfied: ipython>=6.1.0 in c:\\users\\milut\\desktop\\faks4\\du\\projekat\\venv\\lib\\site-packages (from ipywidgets) (8.31.0)\n",
      "Requirement already satisfied: traitlets>=4.3.1 in c:\\users\\milut\\desktop\\faks4\\du\\projekat\\venv\\lib\\site-packages (from ipywidgets) (5.14.3)\n",
      "Requirement already satisfied: widgetsnbextension~=4.0.12 in c:\\users\\milut\\desktop\\faks4\\du\\projekat\\venv\\lib\\site-packages (from ipywidgets) (4.0.13)\n",
      "Requirement already satisfied: jupyterlab-widgets~=3.0.12 in c:\\users\\milut\\desktop\\faks4\\du\\projekat\\venv\\lib\\site-packages (from ipywidgets) (3.0.13)\n",
      "Requirement already satisfied: colorama in c:\\users\\milut\\desktop\\faks4\\du\\projekat\\venv\\lib\\site-packages (from ipython>=6.1.0->ipywidgets) (0.4.6)\n",
      "Requirement already satisfied: decorator in c:\\users\\milut\\desktop\\faks4\\du\\projekat\\venv\\lib\\site-packages (from ipython>=6.1.0->ipywidgets) (5.1.1)\n",
      "Requirement already satisfied: jedi>=0.16 in c:\\users\\milut\\desktop\\faks4\\du\\projekat\\venv\\lib\\site-packages (from ipython>=6.1.0->ipywidgets) (0.19.2)\n",
      "Requirement already satisfied: matplotlib-inline in c:\\users\\milut\\desktop\\faks4\\du\\projekat\\venv\\lib\\site-packages (from ipython>=6.1.0->ipywidgets) (0.1.7)\n",
      "Requirement already satisfied: prompt_toolkit<3.1.0,>=3.0.41 in c:\\users\\milut\\desktop\\faks4\\du\\projekat\\venv\\lib\\site-packages (from ipython>=6.1.0->ipywidgets) (3.0.48)\n",
      "Requirement already satisfied: pygments>=2.4.0 in c:\\users\\milut\\desktop\\faks4\\du\\projekat\\venv\\lib\\site-packages (from ipython>=6.1.0->ipywidgets) (2.18.0)\n",
      "Requirement already satisfied: stack_data in c:\\users\\milut\\desktop\\faks4\\du\\projekat\\venv\\lib\\site-packages (from ipython>=6.1.0->ipywidgets) (0.6.3)\n",
      "Requirement already satisfied: parso<0.9.0,>=0.8.4 in c:\\users\\milut\\desktop\\faks4\\du\\projekat\\venv\\lib\\site-packages (from jedi>=0.16->ipython>=6.1.0->ipywidgets) (0.8.4)\n",
      "Requirement already satisfied: wcwidth in c:\\users\\milut\\desktop\\faks4\\du\\projekat\\venv\\lib\\site-packages (from prompt_toolkit<3.1.0,>=3.0.41->ipython>=6.1.0->ipywidgets) (0.2.13)\n",
      "Requirement already satisfied: executing>=1.2.0 in c:\\users\\milut\\desktop\\faks4\\du\\projekat\\venv\\lib\\site-packages (from stack_data->ipython>=6.1.0->ipywidgets) (2.1.0)\n",
      "Requirement already satisfied: asttokens>=2.1.0 in c:\\users\\milut\\desktop\\faks4\\du\\projekat\\venv\\lib\\site-packages (from stack_data->ipython>=6.1.0->ipywidgets) (3.0.0)\n",
      "Requirement already satisfied: pure-eval in c:\\users\\milut\\desktop\\faks4\\du\\projekat\\venv\\lib\\site-packages (from stack_data->ipython>=6.1.0->ipywidgets) (0.2.3)\n",
      "Note: you may need to restart the kernel to use updated packages.\n"
     ]
    }
   ],
   "source": [
    "%pip install ipywidgets"
   ]
  },
  {
   "cell_type": "code",
   "execution_count": 16,
   "metadata": {},
   "outputs": [
    {
     "name": "stdout",
     "output_type": "stream",
     "text": [
      "Requirement already satisfied: requests in c:\\users\\milut\\desktop\\faks4\\du\\projekat\\venv\\lib\\site-packages (2.32.3)\n",
      "Requirement already satisfied: charset-normalizer<4,>=2 in c:\\users\\milut\\desktop\\faks4\\du\\projekat\\venv\\lib\\site-packages (from requests) (3.4.1)\n",
      "Requirement already satisfied: idna<4,>=2.5 in c:\\users\\milut\\desktop\\faks4\\du\\projekat\\venv\\lib\\site-packages (from requests) (3.10)\n",
      "Requirement already satisfied: urllib3<3,>=1.21.1 in c:\\users\\milut\\desktop\\faks4\\du\\projekat\\venv\\lib\\site-packages (from requests) (2.3.0)\n",
      "Requirement already satisfied: certifi>=2017.4.17 in c:\\users\\milut\\desktop\\faks4\\du\\projekat\\venv\\lib\\site-packages (from requests) (2024.12.14)\n",
      "Note: you may need to restart the kernel to use updated packages.\n"
     ]
    }
   ],
   "source": [
    "%pip install requests"
   ]
  },
  {
   "cell_type": "code",
   "execution_count": 17,
   "metadata": {},
   "outputs": [
    {
     "name": "stdout",
     "output_type": "stream",
     "text": [
      "[\n",
      "    {\n",
      "        \"translation_text\": \"i want to hear hello world from ai\"\n",
      "    }\n",
      "]\n"
     ]
    }
   ],
   "source": [
    "import requests\n",
    "import json\n",
    "\n",
    "\n",
    "auth = json.load(open('secret.json'))['hf_auth']\n",
    "headers = {\"Authorization\": auth}\n",
    "API_URL = \"https://api-inference.huggingface.co/models/google-t5/t5-large\"\n",
    "\n",
    "data = {\n",
    "    \"inputs\": \"summarize: Hello, world! Say it back to me please I want to hear hello world from AI\",  # bitan format\n",
    "    \"parameters\": {\n",
    "        \"max_new_tokens\": 100,\n",
    "        \"min_length\": 10,\n",
    "        \"temperature\": 0.6,\n",
    "        \"top_p\": 0.9,\n",
    "        \"num_beams\": 3,\n",
    "        \"length_penalty\": 0.4,\n",
    "        \"do_sample\": True,\n",
    "        \"use_cache\": True,\n",
    "        \"early_stopping\": True\n",
    "    }\n",
    "}\n",
    "\n",
    "response = requests.post(API_URL, headers=headers, json=data)\n",
    "print(json.dumps(response.json(), indent=4))\n",
    "\n",
    "# rip\n",
    "\n",
    "# {\n",
    "#     \"error\": \"Model google-t5/t5-large is currently loading\",\n",
    "#     \"estimated_time\": 118.0269775390625\n",
    "# }"
   ]
  },
  {
   "cell_type": "code",
   "execution_count": 52,
   "metadata": {},
   "outputs": [],
   "source": [
    "import torch\n",
    "from transformers import AutoTokenizer, AutoModelForCausalLM, T5ForConditionalGeneration\n",
    "import time\n",
    "\n",
    "# Zbog siromastva i manjka vremena promptujemo online modele nekad\n",
    "\n",
    "class ABCEncoderDecoderModel:\n",
    "    def prompt(self, input, parameters) -> str:\n",
    "        pass\n",
    "\n",
    "class APIEncoderDecoderModel(ABCEncoderDecoderModel):\n",
    "    def __init__(self, model_name=\"google-t5/t5-large\"):\n",
    "        \"\"\"google-t5/t5-large  or google-t5/t5-3b\"\"\"\n",
    "        self.model_name = model_name\n",
    "\n",
    "    def prompt(self, input, parameters=None) -> str:\n",
    "        if parameters is None:\n",
    "            parameters = {\n",
    "                \"max_new_tokens\": 200,\n",
    "                \"min_length\": 10,\n",
    "                \"temperature\": 0.6,\n",
    "                \"top_p\": 0.9,\n",
    "                \"num_beams\": 3,\n",
    "                \"length_penalty\": 0.4,\n",
    "                \"do_sample\": True,\n",
    "                \"use_cache\": True,\n",
    "                \"early_stopping\": True\n",
    "            }\n",
    "        \n",
    "        auth = json.load(open('secret.json'))['hf_auth']\n",
    "        headers = {\"Authorization\": auth}\n",
    "        API_URL = f\"https://api-inference.huggingface.co/models/{self.model_name}\"\n",
    "\n",
    "        data = {\n",
    "            \"inputs\": input,\n",
    "            \"parameters\": parameters # {\n",
    "                # \"max_new_tokens\": 20,\n",
    "                # \"min_length\": 10,\n",
    "                # \"temperature\": 0.6,\n",
    "                # \"top_p\": 0.9,\n",
    "                # \"num_beams\": 3,\n",
    "                # \"length_penalty\": 0.4,\n",
    "                # \"do_sample\": True,\n",
    "                # \"use_cache\": True,\n",
    "                # \"early_stopping\": True\n",
    "            #}\n",
    "        }\n",
    "\n",
    "        for _ in range(4):\n",
    "            response = requests.post(API_URL, headers=headers, json=data)\n",
    "            try:\n",
    "                # print(response.json()[0])\n",
    "                return response.json()[0]['translation_text']\n",
    "            except:\n",
    "                print(response)\n",
    "                try:\n",
    "                    print(response.json())\n",
    "                except:\n",
    "                    pass\n",
    "                time.sleep(3)\n",
    "        if response.status_code == 200:\n",
    "            print(response.json())\n",
    "        else:\n",
    "            print('response code != 200')\n",
    "            print(response.status_code)\n",
    "        return \"<ERROR>\"\n",
    "\n",
    "class LocalEncoderDecoderModel(ABCEncoderDecoderModel):\n",
    "    def __init__(self, model_name=\"t5-large\"):\n",
    "        \"\"\"t5-large or t5-3b\"\"\"\n",
    "\n",
    "        tokenizer = AutoTokenizer.from_pretrained(model_name)\n",
    "        device = \"cuda\" if torch.cuda.is_available() else \"cpu\"\n",
    "        # device = \"cpu\"\n",
    "\n",
    "        print(f\"Instancing local pretrained model {model_name}\")\n",
    "        model = T5ForConditionalGeneration.from_pretrained(\n",
    "            model_name,\n",
    "            torch_dtype = torch.float16\n",
    "        ).to(device)\n",
    "\n",
    "        # device = torch.device(\"cuda:0\")\n",
    "\n",
    "        # Get allocated, reserved, and total memory on this GPU\n",
    "        allocated_memory = torch.cuda.memory_allocated(device)\n",
    "        reserved_memory = torch.cuda.memory_reserved(device)\n",
    "        max_memory = torch.cuda.get_device_properties(device).total_memory\n",
    "\n",
    "        print(f\"Allocated: {allocated_memory / (1024**2):.2f} MB\")\n",
    "        print(f\"Reserved:  {reserved_memory / (1024**2):.2f} MB\")\n",
    "        print(f\"Total:     {max_memory / (1024**2):.2f} MB\")\n",
    "        print(model.device)\n",
    "\n",
    "        self.tokenizer = tokenizer\n",
    "        self.model = model\n",
    "\n",
    "    def prompt(self, input, parameters=None) -> str:\n",
    "\n",
    "        if parameters is None:\n",
    "            parameters = {\n",
    "                \"max_new_tokens\": 200,\n",
    "                \"min_length\": 10,\n",
    "                \"temperature\": 0.6,\n",
    "                \"top_p\": 0.9,\n",
    "                \"num_beams\": 3,\n",
    "                \"length_penalty\": 0.4,\n",
    "                \"do_sample\": True,\n",
    "                \"use_cache\": True,\n",
    "                \"early_stopping\": True\n",
    "            }\n",
    "        \n",
    "        inputs_t = self.tokenizer(input, return_tensors=\"pt\", truncation=True).to(self.model.device)\n",
    "        # outputs = model.generate(**inputs, max_new_tokens=500)\n",
    "        outputs = self.model.generate(\n",
    "            **inputs_t,\n",
    "            **parameters\n",
    "        )\n",
    "\n",
    "        out = self.tokenizer.decode(outputs[0], skip_special_tokens=True)\n",
    "        inputs_t.to('cpu')\n",
    "        del inputs_t\n",
    "        torch.cuda.empty_cache()\n",
    "        torch.cuda.synchronize()\n",
    "        return out\n",
    "    \n",
    "    def free(self):\n",
    "        try:\n",
    "            del self.model\n",
    "        except:\n",
    "            pass\n",
    "\n",
    "        try:\n",
    "            del self.tokenizer\n",
    "        except:\n",
    "            pass\n",
    "        torch.cuda.empty_cache()\n",
    "        torch.cuda.synchronize()"
   ]
  },
  {
   "cell_type": "code",
   "execution_count": 19,
   "metadata": {},
   "outputs": [],
   "source": [
    "class ABCSummaryAgent(ABCEncoderDecoderModel):\n",
    "    pass\n",
    "\n",
    "class APISummaryAgent(APIEncoderDecoderModel):\n",
    "    def prompt(self, input, parameters=None) -> str:\n",
    "        return super().prompt(\"summarize: \" + input, parameters)\n",
    "\n",
    "class LocalSummaryAgent(LocalEncoderDecoderModel):\n",
    "    def prompt(self, input, parameters=None) -> str:\n",
    "        return super().prompt(\"summarize: \" + input, parameters)"
   ]
  },
  {
   "cell_type": "code",
   "execution_count": 48,
   "metadata": {},
   "outputs": [],
   "source": [
    "cat_paragraph = \"summarize: The domestic cat is a member of the Felidae, a family that had a common ancestor about 10 to 15 million years ago.[26] The evolutionary radiation of the Felidae began in Asia during the Miocene around 8.38 to 14.45 million years ago.[27] Analysis of mitochondrial DNA of all Felidae species indicates a radiation at 6.46 to 16.76 million years ago.[28] The genus Felis genetically diverged from other Felidae around 6 to 7 million years ago.[27] Results of phylogenetic research shows that the wild members of this genus evolved through sympatric or parapatric speciation, whereas the domestic cat evolved through artificial selection.[29] The domestic cat and its closest wild ancestor are diploid and both possess 38 chromosomes[30] and roughly 20,000 genes.[31]\""
   ]
  },
  {
   "cell_type": "code",
   "execution_count": 55,
   "metadata": {},
   "outputs": [
    {
     "name": "stdout",
     "output_type": "stream",
     "text": [
      "<Response [403]>\n",
      "{'error': 'The model google-t5/t5-3b is too large to be loaded automatically (11GB > 10GB). Please use Spaces (https://huggingface.co/spaces) or Inference Endpoints (https://huggingface.co/inference-endpoints).'}\n"
     ]
    },
    {
     "ename": "KeyboardInterrupt",
     "evalue": "",
     "output_type": "error",
     "traceback": [
      "\u001b[1;31m---------------------------------------------------------------------------\u001b[0m",
      "\u001b[1;31mKeyError\u001b[0m                                  Traceback (most recent call last)",
      "Cell \u001b[1;32mIn[52], line 53\u001b[0m, in \u001b[0;36mAPIEncoderDecoderModel.prompt\u001b[1;34m(self, input, parameters)\u001b[0m\n\u001b[0;32m     51\u001b[0m \u001b[38;5;28;01mtry\u001b[39;00m:\n\u001b[0;32m     52\u001b[0m     \u001b[38;5;66;03m# print(response.json()[0])\u001b[39;00m\n\u001b[1;32m---> 53\u001b[0m     \u001b[38;5;28;01mreturn\u001b[39;00m \u001b[43mresponse\u001b[49m\u001b[38;5;241;43m.\u001b[39;49m\u001b[43mjson\u001b[49m\u001b[43m(\u001b[49m\u001b[43m)\u001b[49m\u001b[43m[\u001b[49m\u001b[38;5;241;43m0\u001b[39;49m\u001b[43m]\u001b[49m[\u001b[38;5;124m'\u001b[39m\u001b[38;5;124mtranslation_text\u001b[39m\u001b[38;5;124m'\u001b[39m]\n\u001b[0;32m     54\u001b[0m \u001b[38;5;28;01mexcept\u001b[39;00m:\n",
      "\u001b[1;31mKeyError\u001b[0m: 0",
      "\nDuring handling of the above exception, another exception occurred:\n",
      "\u001b[1;31mKeyboardInterrupt\u001b[0m                         Traceback (most recent call last)",
      "Cell \u001b[1;32mIn[55], line 2\u001b[0m\n\u001b[0;32m      1\u001b[0m api_model \u001b[38;5;241m=\u001b[39m APIEncoderDecoderModel(\u001b[38;5;124m\"\u001b[39m\u001b[38;5;124mgoogle-t5/t5-3b\u001b[39m\u001b[38;5;124m\"\u001b[39m)\n\u001b[1;32m----> 2\u001b[0m \u001b[38;5;28mprint\u001b[39m(\u001b[43mapi_model\u001b[49m\u001b[38;5;241;43m.\u001b[39;49m\u001b[43mprompt\u001b[49m\u001b[43m(\u001b[49m\u001b[43mcat_paragraph\u001b[49m\u001b[43m)\u001b[49m)\n",
      "Cell \u001b[1;32mIn[52], line 60\u001b[0m, in \u001b[0;36mAPIEncoderDecoderModel.prompt\u001b[1;34m(self, input, parameters)\u001b[0m\n\u001b[0;32m     58\u001b[0m         \u001b[38;5;28;01mexcept\u001b[39;00m:\n\u001b[0;32m     59\u001b[0m             \u001b[38;5;28;01mpass\u001b[39;00m\n\u001b[1;32m---> 60\u001b[0m         \u001b[43mtime\u001b[49m\u001b[38;5;241;43m.\u001b[39;49m\u001b[43msleep\u001b[49m\u001b[43m(\u001b[49m\u001b[38;5;241;43m3\u001b[39;49m\u001b[43m)\u001b[49m\n\u001b[0;32m     61\u001b[0m \u001b[38;5;28;01mif\u001b[39;00m response\u001b[38;5;241m.\u001b[39mstatus_code \u001b[38;5;241m==\u001b[39m \u001b[38;5;241m200\u001b[39m:\n\u001b[0;32m     62\u001b[0m     \u001b[38;5;28mprint\u001b[39m(response\u001b[38;5;241m.\u001b[39mjson())\n",
      "\u001b[1;31mKeyboardInterrupt\u001b[0m: "
     ]
    }
   ],
   "source": [
    "api_model = APIEncoderDecoderModel(\"google-t5/t5-large\")\n",
    "print(api_model.prompt(cat_paragraph))"
   ]
  },
  {
   "cell_type": "code",
   "execution_count": 40,
   "metadata": {},
   "outputs": [
    {
     "name": "stdout",
     "output_type": "stream",
     "text": [
      "Instancing local pretrained model t5-3b\n"
     ]
    },
    {
     "data": {
      "application/vnd.jupyter.widget-view+json": {
       "model_id": "599ff12f287a4c0a933dae22b3c47666",
       "version_major": 2,
       "version_minor": 0
      },
      "text/plain": [
       "Loading checkpoint shards:   0%|          | 0/2 [00:00<?, ?it/s]"
      ]
     },
     "metadata": {},
     "output_type": "display_data"
    },
    {
     "name": "stderr",
     "output_type": "stream",
     "text": [
      "Asking to truncate to max_length but no maximum length is provided and the model has no predefined maximum length. Default to no truncation.\n"
     ]
    },
    {
     "name": "stdout",
     "output_type": "stream",
     "text": [
      "Allocated: 6983.12 MB\n",
      "Reserved:  7574.00 MB\n",
      "Total:     8187.50 MB\n",
      "cuda:0\n",
      "init done\n",
      "[25][26][26][26][26][26][26][26][26] The domestic cat is a member of the felidae family.[31]                ] Both the domestic cat and its closest wild ancestor are eudiploid and possess ] The\n"
     ]
    }
   ],
   "source": [
    "lmodel = LocalEncoderDecoderModel(\"t5-3b\")\n",
    "print(\"init done\")\n",
    "print(lmodel.prompt(cat_paragraph))"
   ]
  },
  {
   "cell_type": "code",
   "execution_count": 45,
   "metadata": {},
   "outputs": [
    {
     "name": "stdout",
     "output_type": "stream",
     "text": [
      "I am a cat who lives in the forrest.\n"
     ]
    }
   ],
   "source": [
    "print(lmodel.prompt(cat_paragraph))"
   ]
  },
  {
   "cell_type": "code",
   "execution_count": 47,
   "metadata": {},
   "outputs": [
    {
     "name": "stdout",
     "output_type": "stream",
     "text": [
      "translate English to Serbian: I am a cat who lives in the forrest. Meow meow I am hungry\n"
     ]
    }
   ],
   "source": [
    "print(cat_paragraph)"
   ]
  },
  {
   "cell_type": "code",
   "execution_count": 35,
   "metadata": {},
   "outputs": [],
   "source": [
    "lmodel.free()"
   ]
  },
  {
   "cell_type": "code",
   "execution_count": 36,
   "metadata": {},
   "outputs": [],
   "source": [
    "cat_paragraph = \"The domestic cat is a member of the Felidae, a family that had a common ancestor about 10 to 15 million years ago.[26] The evolutionary radiation of the Felidae began in Asia during the Miocene around 8.38 to 14.45 million years ago.[27] Analysis of mitochondrial DNA of all Felidae species indicates a radiation at 6.46 to 16.76 million years ago.[28] The genus Felis genetically diverged from other Felidae around 6 to 7 million years ago.[27] Results of phylogenetic research shows that the wild members of this genus evolved through sympatric or parapatric speciation, whereas the domestic cat evolved through artificial selection.[29] The domestic cat and its closest wild ancestor are diploid and both possess 38 chromosomes[30] and roughly 20,000 genes.[31]\""
   ]
  },
  {
   "cell_type": "code",
   "execution_count": 37,
   "metadata": {},
   "outputs": [
    {
     "name": "stdout",
     "output_type": "stream",
     "text": [
      "the domestic cat is a member of the Felidae, a family that had a common ancestor about 10 to 15 million years ago.[26] .\n"
     ]
    }
   ],
   "source": [
    "print(APISummaryAgent().prompt(cat_paragraph))"
   ]
  },
  {
   "cell_type": "code",
   "execution_count": 44,
   "metadata": {
    "vscode": {
     "languageId": "bat"
    }
   },
   "outputs": [
    {
     "name": "stdout",
     "output_type": "stream",
     "text": [
      "Wed Jan  1 21:33:04 2025       \n",
      "+-----------------------------------------------------------------------------------------+\n",
      "| NVIDIA-SMI 566.36                 Driver Version: 566.36         CUDA Version: 12.7     |\n",
      "|-----------------------------------------+------------------------+----------------------+\n",
      "| GPU  Name                  Driver-Model | Bus-Id          Disp.A | Volatile Uncorr. ECC |\n",
      "| Fan  Temp   Perf          Pwr:Usage/Cap |           Memory-Usage | GPU-Util  Compute M. |\n",
      "|                                         |                        |               MIG M. |\n",
      "|=========================================+========================+======================|\n",
      "|   0  NVIDIA GeForce RTX 4060 ...  WDDM  |   00000000:01:00.0 Off |                  N/A |\n",
      "| N/A   51C    P8              2W /  125W |    7834MiB /   8188MiB |      0%      Default |\n",
      "|                                         |                        |                  N/A |\n",
      "+-----------------------------------------+------------------------+----------------------+\n",
      "                                                                                         \n",
      "+-----------------------------------------------------------------------------------------+\n",
      "| Processes:                                                                              |\n",
      "|  GPU   GI   CI        PID   Type   Process name                              GPU Memory |\n",
      "|        ID   ID                                                               Usage      |\n",
      "|=========================================================================================|\n",
      "|    0   N/A  N/A      5608      C   C:\\ProgramData\\anaconda3\\python.exe         N/A      |\n",
      "|    0   N/A  N/A     18156      C   C:\\ProgramData\\anaconda3\\python.exe         N/A      |\n",
      "+-----------------------------------------------------------------------------------------+\n"
     ]
    }
   ],
   "source": [
    "!nvidia-smi"
   ]
  }
 ],
 "metadata": {
  "kernelspec": {
   "display_name": "venv",
   "language": "python",
   "name": "python3"
  },
  "language_info": {
   "codemirror_mode": {
    "name": "ipython",
    "version": 3
   },
   "file_extension": ".py",
   "mimetype": "text/x-python",
   "name": "python",
   "nbconvert_exporter": "python",
   "pygments_lexer": "ipython3",
   "version": "3.12.7"
  }
 },
 "nbformat": 4,
 "nbformat_minor": 2
}
