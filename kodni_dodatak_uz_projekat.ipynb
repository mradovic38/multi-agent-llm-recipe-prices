{
  "nbformat": 4,
  "nbformat_minor": 0,
  "metadata": {
    "colab": {
      "provenance": []
    },
    "kernelspec": {
      "name": "python3",
      "display_name": "Python 3"
    },
    "language_info": {
      "name": "python"
    }
  },
  "cells": [
    {
      "cell_type": "markdown",
      "source": [
        "# Pretvaranje funkcije u tekstualnu šemu"
      ],
      "metadata": {
        "id": "5r-JuxWvRkOG"
      }
    },
    {
      "cell_type": "code",
      "execution_count": null,
      "metadata": {
        "id": "wEA0kDGtRcFZ"
      },
      "outputs": [],
      "source": [
        "import inspect\n",
        "import json\n",
        "\n",
        "def function_to_schema(func) -> dict:\n",
        "    type_map = {\n",
        "        str: \"string\",\n",
        "        int: \"integer\",\n",
        "        float: \"number\",\n",
        "        bool: \"boolean\",\n",
        "        list: \"array\",\n",
        "        dict: \"object\",\n",
        "        type(None): \"null\",\n",
        "    }\n",
        "\n",
        "    try:\n",
        "        signature = inspect.signature(func)\n",
        "    except ValueError as e:\n",
        "        raise ValueError(\n",
        "            f\"Failed to get signature for function {func.__name__}: {str(e)}\"\n",
        "        )\n",
        "\n",
        "    parameters = {}\n",
        "    for param in signature.parameters.values():\n",
        "        try:\n",
        "            param_type = type_map.get(param.annotation, \"string\")\n",
        "        except KeyError as e:\n",
        "            raise KeyError(\n",
        "                f\"Unknown type annotation {param.annotation} for parameter {param.name}: {str(e)}\"\n",
        "            )\n",
        "        parameters[param.name] = {\"type\": param_type}\n",
        "\n",
        "    required = [\n",
        "        param.name\n",
        "        for param in signature.parameters.values()\n",
        "        if param.default == inspect._empty\n",
        "    ]\n",
        "\n",
        "    return {\n",
        "        \"type\": \"function\",\n",
        "        \"function\": {\n",
        "            \"name\": func.__name__,\n",
        "            \"description\": (func.__doc__ or \"\").strip(),\n",
        "            \"parameters\": {\n",
        "                \"type\": \"object\",\n",
        "                \"properties\": parameters,\n",
        "                \"required\": required,\n",
        "            },\n",
        "        },\n",
        "    }"
      ]
    },
    {
      "cell_type": "markdown",
      "source": [
        "### Primer 1"
      ],
      "metadata": {
        "id": "PiEoE9WARp1y"
      }
    },
    {
      "cell_type": "code",
      "source": [
        "def function_dummy() -> str:\n",
        "  \"\"\"\n",
        "  Ovo je primer jednostavne funkcije\n",
        "  \"\"\"\n",
        "  return \"Zdravo studenti\""
      ],
      "metadata": {
        "id": "9Jal4LVqRpgF"
      },
      "execution_count": null,
      "outputs": []
    },
    {
      "cell_type": "code",
      "source": [
        "sema = function_to_schema(function_dummy)\n",
        "print(json.dumps(sema, indent=2))"
      ],
      "metadata": {
        "colab": {
          "base_uri": "https://localhost:8080/"
        },
        "id": "FH4okH8sR0zW",
        "outputId": "10a251e1-55b3-475d-cfd6-e021a8c03107"
      },
      "execution_count": null,
      "outputs": [
        {
          "output_type": "stream",
          "name": "stdout",
          "text": [
            "{\n",
            "  \"type\": \"function\",\n",
            "  \"function\": {\n",
            "    \"name\": \"function_dummy\",\n",
            "    \"description\": \"Ovo je primer jednostavne funkcije\",\n",
            "    \"parameters\": {\n",
            "      \"type\": \"object\",\n",
            "      \"properties\": {},\n",
            "      \"required\": []\n",
            "    }\n",
            "  }\n",
            "}\n"
          ]
        }
      ]
    },
    {
      "cell_type": "markdown",
      "source": [
        "### Primer 2"
      ],
      "metadata": {
        "id": "sQmtgl7SSI5w"
      }
    },
    {
      "cell_type": "code",
      "source": [
        "def saberi(a:int,b:int) -> float:\n",
        "  \"\"\"\n",
        "  Ovo je primer funkcije koja sabira dva celobroja broja i vraca realan rezultat\n",
        "  \"\"\"\n",
        "\n",
        "  return float(a+b)"
      ],
      "metadata": {
        "id": "lfHxXUtaSLQF"
      },
      "execution_count": null,
      "outputs": []
    },
    {
      "cell_type": "code",
      "source": [
        "sema = function_to_schema(saberi)\n",
        "print(json.dumps(sema, indent=2))"
      ],
      "metadata": {
        "colab": {
          "base_uri": "https://localhost:8080/"
        },
        "id": "s1OnFjadSbzC",
        "outputId": "af4c71bf-d6b3-471a-d205-d098b9a96e47"
      },
      "execution_count": null,
      "outputs": [
        {
          "output_type": "stream",
          "name": "stdout",
          "text": [
            "{\n",
            "  \"type\": \"function\",\n",
            "  \"function\": {\n",
            "    \"name\": \"saberi\",\n",
            "    \"description\": \"Ovo je primer funkcije koja sabira dva celobroja broja i vraca realan rezultat\",\n",
            "    \"parameters\": {\n",
            "      \"type\": \"object\",\n",
            "      \"properties\": {\n",
            "        \"a\": {\n",
            "          \"type\": \"integer\"\n",
            "        },\n",
            "        \"b\": {\n",
            "          \"type\": \"integer\"\n",
            "        }\n",
            "      },\n",
            "      \"required\": [\n",
            "        \"a\",\n",
            "        \"b\"\n",
            "      ]\n",
            "    }\n",
            "  }\n",
            "}\n"
          ]
        }
      ]
    },
    {
      "cell_type": "markdown",
      "source": [
        "### Primer 3"
      ],
      "metadata": {
        "id": "45MYYgXzSodz"
      }
    },
    {
      "cell_type": "code",
      "source": [
        "def napravi_pricu(ime_glavnog,godine:int,zanimanje:str=\"Programer\") -> str:\n",
        "  \"\"\"\n",
        "  Ovo je primer jednostavne funkcije koja od imena i godina glavnog glumca, i njegovog zanimanja kreira kratku pricu\n",
        "  \"\"\"\n",
        "\n",
        "  return f\"{ime_glavnog} ima {godine} godina. Zanimanje {ime_glavnog},{godine}, je {zanimanje}\""
      ],
      "metadata": {
        "id": "MUPkweEoSq-_"
      },
      "execution_count": null,
      "outputs": []
    },
    {
      "cell_type": "code",
      "source": [
        "sema = function_to_schema(napravi_pricu)\n",
        "print(json.dumps(sema, indent=2))"
      ],
      "metadata": {
        "colab": {
          "base_uri": "https://localhost:8080/"
        },
        "outputId": "e2abd917-f9bf-4381-b240-c330132b63f1",
        "id": "EhsD4GNuSq_A"
      },
      "execution_count": null,
      "outputs": [
        {
          "output_type": "stream",
          "name": "stdout",
          "text": [
            "{\n",
            "  \"type\": \"function\",\n",
            "  \"function\": {\n",
            "    \"name\": \"napravi_pricu\",\n",
            "    \"description\": \"Ovo je primer jednostavne funkcije koja od imena i godina glavnog glumca, i njegovog zanimanja kreira kratku pricu\",\n",
            "    \"parameters\": {\n",
            "      \"type\": \"object\",\n",
            "      \"properties\": {\n",
            "        \"ime_glavnog\": {\n",
            "          \"type\": \"string\"\n",
            "        },\n",
            "        \"godine\": {\n",
            "          \"type\": \"integer\"\n",
            "        },\n",
            "        \"zanimanje\": {\n",
            "          \"type\": \"string\"\n",
            "        }\n",
            "      },\n",
            "      \"required\": [\n",
            "        \"ime_glavnog\",\n",
            "        \"godine\"\n",
            "      ]\n",
            "    }\n",
            "  }\n",
            "}\n"
          ]
        }
      ]
    }
  ]
}