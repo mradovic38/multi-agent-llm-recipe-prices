{
  "cells": [
    {
      "cell_type": "markdown",
      "metadata": {
        "id": "5r-JuxWvRkOG"
      },
      "source": [
        "# Pretvaranje funkcije u tekstualnu šemu"
      ]
    },
    {
      "cell_type": "code",
      "execution_count": null,
      "metadata": {
        "id": "wEA0kDGtRcFZ"
      },
      "outputs": [],
      "source": [
        "import inspect\n",
        "import json\n",
        "\n",
        "def function_to_schema(func) -> dict:\n",
        "    type_map = {\n",
        "        str: \"string\",\n",
        "        int: \"integer\",\n",
        "        float: \"number\",\n",
        "        bool: \"boolean\",\n",
        "        list: \"array\",\n",
        "        dict: \"object\",\n",
        "        type(None): \"null\",\n",
        "    }\n",
        "\n",
        "    try:\n",
        "        signature = inspect.signature(func)\n",
        "    except ValueError as e:\n",
        "        raise ValueError(\n",
        "            f\"Failed to get signature for function {func.__name__}: {str(e)}\"\n",
        "        )\n",
        "\n",
        "    parameters = {}\n",
        "    for param in signature.parameters.values():\n",
        "        try:\n",
        "            param_type = type_map.get(param.annotation, \"string\")\n",
        "        except KeyError as e:\n",
        "            raise KeyError(\n",
        "                f\"Unknown type annotation {param.annotation} for parameter {param.name}: {str(e)}\"\n",
        "            )\n",
        "        parameters[param.name] = {\"type\": param_type}\n",
        "\n",
        "    required = [\n",
        "        param.name\n",
        "        for param in signature.parameters.values()\n",
        "        if param.default == inspect._empty\n",
        "    ]\n",
        "\n",
        "    return {\n",
        "        \"type\": \"function\",\n",
        "        \"function\": {\n",
        "            \"name\": func.__name__,\n",
        "            \"description\": (func.__doc__ or \"\").strip(),\n",
        "            \"parameters\": {\n",
        "                \"type\": \"object\",\n",
        "                \"properties\": parameters,\n",
        "                \"required\": required,\n",
        "            },\n",
        "        },\n",
        "    }"
      ]
    },
    {
      "cell_type": "markdown",
      "metadata": {
        "id": "PiEoE9WARp1y"
      },
      "source": [
        "### Primer 1"
      ]
    },
    {
      "cell_type": "code",
      "execution_count": null,
      "metadata": {
        "id": "9Jal4LVqRpgF"
      },
      "outputs": [],
      "source": [
        "def function_dummy() -> str:\n",
        "  \"\"\"\n",
        "  Ovo je primer jednostavne funkcije\n",
        "  \"\"\"\n",
        "  return \"Zdravo studenti\""
      ]
    },
    {
      "cell_type": "code",
      "execution_count": null,
      "metadata": {
        "colab": {
          "base_uri": "https://localhost:8080/"
        },
        "id": "FH4okH8sR0zW",
        "outputId": "10a251e1-55b3-475d-cfd6-e021a8c03107"
      },
      "outputs": [
        {
          "name": "stdout",
          "output_type": "stream",
          "text": [
            "{\n",
            "  \"type\": \"function\",\n",
            "  \"function\": {\n",
            "    \"name\": \"function_dummy\",\n",
            "    \"description\": \"Ovo je primer jednostavne funkcije\",\n",
            "    \"parameters\": {\n",
            "      \"type\": \"object\",\n",
            "      \"properties\": {},\n",
            "      \"required\": []\n",
            "    }\n",
            "  }\n",
            "}\n"
          ]
        }
      ],
      "source": [
        "sema = function_to_schema(function_dummy)\n",
        "print(json.dumps(sema, indent=2))"
      ]
    },
    {
      "cell_type": "markdown",
      "metadata": {
        "id": "sQmtgl7SSI5w"
      },
      "source": [
        "### Primer 2"
      ]
    },
    {
      "cell_type": "code",
      "execution_count": null,
      "metadata": {
        "id": "lfHxXUtaSLQF"
      },
      "outputs": [],
      "source": [
        "def saberi(a:int,b:int) -> float:\n",
        "  \"\"\"\n",
        "  Ovo je primer funkcije koja sabira dva celobroja broja i vraca realan rezultat\n",
        "  \"\"\"\n",
        "\n",
        "  return float(a+b)"
      ]
    },
    {
      "cell_type": "code",
      "execution_count": null,
      "metadata": {
        "colab": {
          "base_uri": "https://localhost:8080/"
        },
        "id": "s1OnFjadSbzC",
        "outputId": "af4c71bf-d6b3-471a-d205-d098b9a96e47"
      },
      "outputs": [
        {
          "name": "stdout",
          "output_type": "stream",
          "text": [
            "{\n",
            "  \"type\": \"function\",\n",
            "  \"function\": {\n",
            "    \"name\": \"saberi\",\n",
            "    \"description\": \"Ovo je primer funkcije koja sabira dva celobroja broja i vraca realan rezultat\",\n",
            "    \"parameters\": {\n",
            "      \"type\": \"object\",\n",
            "      \"properties\": {\n",
            "        \"a\": {\n",
            "          \"type\": \"integer\"\n",
            "        },\n",
            "        \"b\": {\n",
            "          \"type\": \"integer\"\n",
            "        }\n",
            "      },\n",
            "      \"required\": [\n",
            "        \"a\",\n",
            "        \"b\"\n",
            "      ]\n",
            "    }\n",
            "  }\n",
            "}\n"
          ]
        }
      ],
      "source": [
        "sema = function_to_schema(saberi)\n",
        "print(json.dumps(sema, indent=2))"
      ]
    },
    {
      "cell_type": "markdown",
      "metadata": {
        "id": "45MYYgXzSodz"
      },
      "source": [
        "### Primer 3"
      ]
    },
    {
      "cell_type": "code",
      "execution_count": null,
      "metadata": {
        "id": "MUPkweEoSq-_"
      },
      "outputs": [],
      "source": [
        "def napravi_pricu(ime_glavnog,godine:int,zanimanje:str=\"Programer\") -> str:\n",
        "  \"\"\"\n",
        "  Ovo je primer jednostavne funkcije koja od imena i godina glavnog glumca, i njegovog zanimanja kreira kratku pricu\n",
        "  \"\"\"\n",
        "\n",
        "  return f\"{ime_glavnog} ima {godine} godina. Zanimanje {ime_glavnog},{godine}, je {zanimanje}\""
      ]
    },
    {
      "cell_type": "code",
      "execution_count": null,
      "metadata": {
        "colab": {
          "base_uri": "https://localhost:8080/"
        },
        "id": "EhsD4GNuSq_A",
        "outputId": "e2abd917-f9bf-4381-b240-c330132b63f1"
      },
      "outputs": [
        {
          "name": "stdout",
          "output_type": "stream",
          "text": [
            "{\n",
            "  \"type\": \"function\",\n",
            "  \"function\": {\n",
            "    \"name\": \"napravi_pricu\",\n",
            "    \"description\": \"Ovo je primer jednostavne funkcije koja od imena i godina glavnog glumca, i njegovog zanimanja kreira kratku pricu\",\n",
            "    \"parameters\": {\n",
            "      \"type\": \"object\",\n",
            "      \"properties\": {\n",
            "        \"ime_glavnog\": {\n",
            "          \"type\": \"string\"\n",
            "        },\n",
            "        \"godine\": {\n",
            "          \"type\": \"integer\"\n",
            "        },\n",
            "        \"zanimanje\": {\n",
            "          \"type\": \"string\"\n",
            "        }\n",
            "      },\n",
            "      \"required\": [\n",
            "        \"ime_glavnog\",\n",
            "        \"godine\"\n",
            "      ]\n",
            "    }\n",
            "  }\n",
            "}\n"
          ]
        }
      ],
      "source": [
        "sema = function_to_schema(napravi_pricu)\n",
        "print(json.dumps(sema, indent=2))"
      ]
    }
  ],
  "metadata": {
    "colab": {
      "provenance": []
    },
    "kernelspec": {
      "display_name": "Python 3",
      "name": "python3"
    },
    "language_info": {
      "name": "python"
    }
  },
  "nbformat": 4,
  "nbformat_minor": 0
}
